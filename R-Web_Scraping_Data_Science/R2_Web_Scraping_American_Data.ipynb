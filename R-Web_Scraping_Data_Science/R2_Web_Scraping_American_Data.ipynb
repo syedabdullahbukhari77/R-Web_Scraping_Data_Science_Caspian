{
  "nbformat": 4,
  "nbformat_minor": 0,
  "metadata": {
    "colab": {
      "private_outputs": true,
      "provenance": []
    },
    "kernelspec": {
      "name": "python3",
      "display_name": "Python 3"
    },
    "language_info": {
      "name": "python"
    }
  },
  "cells": [
    {
      "cell_type": "code",
      "execution_count": null,
      "metadata": {
        "id": "9Y4_E6KLJt0p"
      },
      "outputs": [],
      "source": [
        "from bs4 import BeautifulSoup\n",
        "import requests"
      ]
    },
    {
      "cell_type": "code",
      "source": [
        "url = 'https://en.wikipedia.org/wiki/List_of_largest_companies_in_the_United_States_by_revenue'\n",
        "\n",
        "page = requests.get(url)\n",
        "\n",
        "Soup = BeautifulSoup(page.text , 'html')"
      ],
      "metadata": {
        "id": "JFBAWZk7J3Q8",
        "collapsed": true
      },
      "execution_count": null,
      "outputs": []
    },
    {
      "cell_type": "code",
      "source": [
        "print(Soup)"
      ],
      "metadata": {
        "collapsed": true,
        "id": "jwIECRtVKTL8"
      },
      "execution_count": null,
      "outputs": []
    },
    {
      "cell_type": "code",
      "source": [
        "Soup.find_all('table')"
      ],
      "metadata": {
        "collapsed": true,
        "id": "91I5dDO_LJ0L"
      },
      "execution_count": null,
      "outputs": []
    },
    {
      "cell_type": "code",
      "source": [
        "table = Soup.find_all('table')[1]"
      ],
      "metadata": {
        "id": "YIYJLHmcR2IO"
      },
      "execution_count": null,
      "outputs": []
    },
    {
      "cell_type": "code",
      "source": [
        "table = Soup.find_all('th')"
      ],
      "metadata": {
        "collapsed": true,
        "id": "hRk2lKwjSHA6"
      },
      "execution_count": null,
      "outputs": []
    },
    {
      "cell_type": "code",
      "source": [
        "table = Soup.find_all('th' , class_ = 'wikitable sortable')"
      ],
      "metadata": {
        "id": "nj1FK-6hSNA8"
      },
      "execution_count": null,
      "outputs": []
    },
    {
      "cell_type": "code",
      "source": [
        "list_titles = Soup.find_all('th')"
      ],
      "metadata": {
        "id": "2_kgqMxEUdhy"
      },
      "execution_count": null,
      "outputs": []
    },
    {
      "cell_type": "code",
      "source": [
        "list_titles"
      ],
      "metadata": {
        "collapsed": true,
        "id": "rnqnAqvAUp3w"
      },
      "execution_count": null,
      "outputs": []
    },
    {
      "cell_type": "code",
      "source": [
        "new_class = [title.text.strip() for title in list_titles]"
      ],
      "metadata": {
        "id": "l7sPfe97U-IS"
      },
      "execution_count": null,
      "outputs": []
    },
    {
      "cell_type": "code",
      "source": [
        "new_class"
      ],
      "metadata": {
        "collapsed": true,
        "id": "k7PFWc3oVe3O"
      },
      "execution_count": null,
      "outputs": []
    },
    {
      "cell_type": "code",
      "source": [
        "cuba = Soup.find_all('th')\n",
        "\n",
        "cuba"
      ],
      "metadata": {
        "collapsed": true,
        "id": "2lLkG8r0olUR"
      },
      "execution_count": null,
      "outputs": []
    },
    {
      "cell_type": "markdown",
      "source": [
        "#**--------**\n"
      ],
      "metadata": {
        "id": "jXyrkg8SWgSV"
      }
    },
    {
      "cell_type": "code",
      "source": [
        "import pandas as pd"
      ],
      "metadata": {
        "id": "qZY0BKPKVxDY"
      },
      "execution_count": null,
      "outputs": []
    },
    {
      "cell_type": "code",
      "source": [
        "df = pd.DataFrame(columns = new_class)\n",
        "\n",
        "print(df)"
      ],
      "metadata": {
        "collapsed": true,
        "id": "BJ0C8ADRWnIh"
      },
      "execution_count": null,
      "outputs": []
    },
    {
      "cell_type": "code",
      "source": [
        "column_data = Soup.find_all('tr')\n",
        "column_data"
      ],
      "metadata": {
        "collapsed": true,
        "id": "SCesJiep7IXO"
      },
      "execution_count": null,
      "outputs": []
    },
    {
      "cell_type": "code",
      "source": [
        "for row in column_data[1:101]:\n",
        "  row_data = row.find_all('td')\n",
        "  individual_data = [data.text.strip() for data in row_data]\n",
        "\n",
        "  length = len(df)\n",
        "  df.loc[length] = individual_data"
      ],
      "metadata": {
        "collapsed": true,
        "id": "mSO-MuBD9ras"
      },
      "execution_count": null,
      "outputs": []
    },
    {
      "cell_type": "code",
      "source": [
        "df"
      ],
      "metadata": {
        "collapsed": true,
        "id": "rnZuX2NOV_mG"
      },
      "execution_count": null,
      "outputs": []
    }
  ]
}