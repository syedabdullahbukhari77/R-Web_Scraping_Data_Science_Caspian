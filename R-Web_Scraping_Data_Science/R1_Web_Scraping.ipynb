{
  "nbformat": 4,
  "nbformat_minor": 0,
  "metadata": {
    "colab": {
      "private_outputs": true,
      "provenance": []
    },
    "kernelspec": {
      "name": "python3",
      "display_name": "Python 3"
    },
    "language_info": {
      "name": "python"
    }
  },
  "cells": [
    {
      "cell_type": "code",
      "execution_count": null,
      "metadata": {
        "id": "zeA4JXDlldIg"
      },
      "outputs": [],
      "source": [
        "!pip install requests beautifulsoup4 lxml\n",
        "\n",
        "# Step 2: Import the Required Libraries\n",
        "import requests\n",
        "from bs4 import BeautifulSoup"
      ]
    },
    {
      "cell_type": "code",
      "source": [
        "url = 'https://www.scrapethissite.com/pages/forms/'"
      ],
      "metadata": {
        "id": "atVvpqt0loZ_"
      },
      "execution_count": null,
      "outputs": []
    },
    {
      "cell_type": "code",
      "source": [
        "response = requests.get(url)"
      ],
      "metadata": {
        "id": "FnVTu9pKJR0h"
      },
      "execution_count": null,
      "outputs": []
    },
    {
      "cell_type": "code",
      "source": [
        "if response.status_code == 200:\n",
        "    print(\"Successfully retrieved the webpage.\")\n",
        "else:\n",
        "    print(f\"Failed to retrieve the webpage. Status code: {response.status_code}\")"
      ],
      "metadata": {
        "id": "RfWTMQ4bluNt"
      },
      "execution_count": null,
      "outputs": []
    },
    {
      "cell_type": "code",
      "source": [
        "soup = BeautifulSoup(response.text, 'lxml')"
      ],
      "metadata": {
        "id": "QSHiEHGEluJL"
      },
      "execution_count": null,
      "outputs": []
    },
    {
      "cell_type": "code",
      "source": [
        "forms = soup.find_all('form')"
      ],
      "metadata": {
        "id": "lIcwakS1l05B"
      },
      "execution_count": null,
      "outputs": []
    },
    {
      "cell_type": "code",
      "source": [
        "print(f\"Found {len(forms)} forms on the page.\")"
      ],
      "metadata": {
        "id": "YhL27hhTlzDk"
      },
      "execution_count": null,
      "outputs": []
    },
    {
      "cell_type": "code",
      "source": [
        "for i, form in enumerate(forms, 1):\n",
        "    print(f\"Form {i}:\")\n",
        "    print(form.prettify())  # Prettifies the HTML for better readability\n",
        "    print(\"-\" * 50)\n"
      ],
      "metadata": {
        "id": "oHIC-Vp9luD8"
      },
      "execution_count": null,
      "outputs": []
    },
    {
      "cell_type": "code",
      "source": [
        "form_1_inputs = forms[0].find_all('input')\n",
        "print(f\"Found {len(form_1_inputs)} input fields in Form 1.\")\n",
        "for input_tag in form_1_inputs:\n",
        "    print(f\"Input name: {input_tag.get('name')}, Input type: {input_tag.get('type')}\")\n",
        "print(\"-\" * 50)"
      ],
      "metadata": {
        "id": "DECsALv8luBn"
      },
      "execution_count": null,
      "outputs": []
    },
    {
      "cell_type": "code",
      "source": [
        "buttons = soup.find_all('button')\n",
        "print(f\"Found {len(buttons)} buttons on the page.\")\n",
        "for button in buttons:\n",
        "    print(f\"Button type: {button.get('type')}, Button text: {button.text.strip()}\")\n",
        "print(\"-\" * 50)"
      ],
      "metadata": {
        "id": "Ylve0Kvhlt_R"
      },
      "execution_count": null,
      "outputs": []
    },
    {
      "cell_type": "code",
      "source": [
        "selects = soup.find_all('select')\n",
        "print(f\"Found {len(selects)} select dropdowns on the page.\")\n",
        "for select in selects:\n",
        "    # Extract all the <option> elements inside the <select> dropdown\n",
        "    options = select.find_all('option')\n",
        "    print(f\"Select has {len(options)} options:\")\n",
        "    for option in options:\n",
        "        print(f\"Option value: {option.get('value')}, Option text: {option.text.strip()}\")\n",
        "    print(\"-\" * 50)"
      ],
      "metadata": {
        "id": "U3eZA6tylt86"
      },
      "execution_count": null,
      "outputs": []
    },
    {
      "cell_type": "code",
      "source": [
        "for form in forms:\n",
        "    action = form.get('action')  # The action attribute specifies where the form will submit data\n",
        "    method = form.get('method')  # The method (GET or POST)\n",
        "    print(f\"Form action: {action}, Method: {method}\")\n",
        "    print(\"-\" * 50)\n"
      ],
      "metadata": {
        "id": "bWSm96zTlt6q"
      },
      "execution_count": null,
      "outputs": []
    },
    {
      "cell_type": "code",
      "source": [
        "with open(\"scraped_data.txt\", \"w\") as file:\n",
        "    file.write(f\"Found {len(forms)} forms on the page.\\n\")\n",
        "    for i, form in enumerate(forms, 1):\n",
        "        file.write(f\"\\nForm {i}:\\n\")\n",
        "        file.write(form.prettify())\n",
        "        file.write(\"\\n\" + \"-\"*50 + \"\\n\")"
      ],
      "metadata": {
        "id": "3MvVP9SYlt4V"
      },
      "execution_count": null,
      "outputs": []
    },
    {
      "cell_type": "code",
      "source": [
        "try:\n",
        "    # Simulate extracting data (this part would raise an error if an element doesn't exist)\n",
        "    non_existent_element = soup.find('non_existent_tag')\n",
        "    print(non_existent_element.text)\n",
        "except Exception as e:\n",
        "    print(f\"An error occurred: {e}\")"
      ],
      "metadata": {
        "id": "4Hg0kZcolt14"
      },
      "execution_count": null,
      "outputs": []
    },
    {
      "cell_type": "code",
      "source": [],
      "metadata": {
        "id": "V1pfvXd-ltzT"
      },
      "execution_count": null,
      "outputs": []
    },
    {
      "cell_type": "code",
      "source": [],
      "metadata": {
        "id": "IX0ctfSBltwP"
      },
      "execution_count": null,
      "outputs": []
    },
    {
      "cell_type": "code",
      "source": [],
      "metadata": {
        "id": "ncN2PrHdlttZ"
      },
      "execution_count": null,
      "outputs": []
    },
    {
      "cell_type": "code",
      "source": [],
      "metadata": {
        "id": "6XwA6ro8ltqk"
      },
      "execution_count": null,
      "outputs": []
    },
    {
      "cell_type": "code",
      "source": [],
      "metadata": {
        "id": "MMnycnurltP7"
      },
      "execution_count": null,
      "outputs": []
    }
  ]
}