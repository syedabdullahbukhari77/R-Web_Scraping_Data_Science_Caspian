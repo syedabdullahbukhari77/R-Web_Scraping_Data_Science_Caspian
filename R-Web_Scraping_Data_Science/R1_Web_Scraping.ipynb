{
  "nbformat": 4,
  "nbformat_minor": 0,
  "metadata": {
    "colab": {
      "private_outputs": true,
      "provenance": []
    },
    "kernelspec": {
      "name": "python3",
      "display_name": "Python 3"
    },
    "language_info": {
      "name": "python"
    }
  },
  "cells": [
    {
      "cell_type": "code",
      "execution_count": null,
      "metadata": {
        "id": "zeA4JXDlldIg"
      },
      "outputs": [],
      "source": [
        "from bs4 import BeautifulSoup\n",
        "import requests"
      ]
    },
    {
      "cell_type": "code",
      "source": [
        "url = 'https://www.scrapethissite.com/pages/forms/'"
      ],
      "metadata": {
        "id": "upv3eb1flzuY"
      },
      "execution_count": null,
      "outputs": []
    },
    {
      "cell_type": "code",
      "source": [
        "page = requests.get(url)"
      ],
      "metadata": {
        "id": "Lg-sh2u9muIM"
      },
      "execution_count": null,
      "outputs": []
    },
    {
      "cell_type": "code",
      "source": [
        "Soup = BeautifulSoup(page.text , 'html')"
      ],
      "metadata": {
        "id": "jpWT5wtqGCu0"
      },
      "execution_count": null,
      "outputs": []
    },
    {
      "cell_type": "code",
      "source": [
        "Soup.prettify()"
      ],
      "metadata": {
        "collapsed": true,
        "id": "Uta_xxd7GEeg"
      },
      "execution_count": null,
      "outputs": []
    },
    {
      "cell_type": "code",
      "source": [
        "Soup.find('p').text.strip()"
      ],
      "metadata": {
        "collapsed": true,
        "id": "zbpbi4xdHMiX"
      },
      "execution_count": null,
      "outputs": []
    },
    {
      "cell_type": "code",
      "source": [
        "Soup.find_all('th')"
      ],
      "metadata": {
        "collapsed": true,
        "id": "zhcZT40yIn5u"
      },
      "execution_count": null,
      "outputs": []
    },
    {
      "cell_type": "code",
      "source": [],
      "metadata": {
        "id": "FnVTu9pKJR0h"
      },
      "execution_count": null,
      "outputs": []
    }
  ]
}